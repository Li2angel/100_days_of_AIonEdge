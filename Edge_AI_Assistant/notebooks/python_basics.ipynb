{
 "cells": [
  {
   "cell_type": "markdown",
   "metadata": {},
   "source": [
    "# Quick Python Refresher"
   ]
  },
  {
   "cell_type": "markdown",
   "metadata": {},
   "source": [
    "### Variables"
   ]
  },
  {
   "cell_type": "markdown",
   "metadata": {},
   "source": [
    "##### Write a Python program to print \"Hello Python\"."
   ]
  },
  {
   "cell_type": "code",
   "execution_count": 1,
   "metadata": {},
   "outputs": [
    {
     "name": "stdout",
     "output_type": "stream",
     "text": [
      "Hello world\n"
     ]
    }
   ],
   "source": [
    "print('Hello world')"
   ]
  },
  {
   "cell_type": "markdown",
   "metadata": {},
   "source": [
    "##### Write a Python program to do arithmetical operations addition and division."
   ]
  },
  {
   "cell_type": "code",
   "execution_count": 3,
   "metadata": {},
   "outputs": [
    {
     "name": "stdout",
     "output_type": "stream",
     "text": [
      "The sum of 4.0 and 3.0  two numbers is: 7.0\n"
     ]
    }
   ],
   "source": [
    "# Addition\n",
    "num1 = float(input('Enter a number: '))\n",
    "num2 = float(input('Enter another number: '))\n",
    "print(f'The sum of {num1} and {num2}  two numbers is:', num1 + num2)"
   ]
  },
  {
   "cell_type": "code",
   "execution_count": 5,
   "metadata": {},
   "outputs": [
    {
     "name": "stdout",
     "output_type": "stream",
     "text": [
      "The division of 4.0 and 5.0 is: 0.8\n"
     ]
    }
   ],
   "source": [
    "# Division\n",
    "num1 = float(input('Enter a number: '))\n",
    "num2 = float(input('Enter another number: '))\n",
    "if num2 == 0:\n",
    "    print('You cannot divide by zero')\n",
    "else:\n",
    "    print(f'The division of {num1} and {num2} is:', num1 / num2)"
   ]
  },
  {
   "cell_type": "markdown",
   "metadata": {},
   "source": [
    "##### Write a Python program to find the area of a triangle."
   ]
  },
  {
   "cell_type": "code",
   "execution_count": 6,
   "metadata": {},
   "outputs": [
    {
     "name": "stdout",
     "output_type": "stream",
     "text": [
      "The area of the triangle is: 14.0\n"
     ]
    }
   ],
   "source": [
    "# input the base and height of a triangle and calculate the area\n",
    "base = float(input('Enter the base: '))\n",
    "height = float(input('Enter the height: '))\n",
    "\n",
    "# compute the area\n",
    "area = 0.5 * base * height\n",
    "\n",
    "# output the area\n",
    "print(f'The area of the triangle is:', area)"
   ]
  },
  {
   "cell_type": "markdown",
   "metadata": {},
   "source": [
    "##### Write a Python program to swap two variables."
   ]
  },
  {
   "cell_type": "code",
   "execution_count": 9,
   "metadata": {},
   "outputs": [
    {
     "name": "stdout",
     "output_type": "stream",
     "text": [
      "The first value is 4 and the second value is 5:\n",
      "After the swap, \n",
      "The first value is 5 and the second value is 4:\n"
     ]
    }
   ],
   "source": [
    "# input values\n",
    "var1 = input('Enter a value: ')\n",
    "var2 = input('Enter another value: ')\n",
    "\n",
    "# print original values\n",
    "print(f'The first value is {var1} and the second value is {var2}:')\n",
    "\n",
    "# swap the values\n",
    "temp = var1\n",
    "var1 = var2\n",
    "var2 = temp\n",
    "\n",
    "# output the values\n",
    "print(f'After the swap, \\nThe first value is {var1} and the second value is {var2}:')\n"
   ]
  },
  {
   "cell_type": "markdown",
   "metadata": {},
   "source": [
    "##### Write a Python program to generate a random number."
   ]
  },
  {
   "cell_type": "code",
   "execution_count": 12,
   "metadata": {},
   "outputs": [
    {
     "name": "stdout",
     "output_type": "stream",
     "text": [
      "The random number is: 88\n"
     ]
    }
   ],
   "source": [
    "import random as rd\n",
    "\n",
    "random_number = rd.randint(1, 100)\n",
    "\n",
    "print('The random number is:', random_number)"
   ]
  },
  {
   "cell_type": "markdown",
   "metadata": {},
   "source": [
    "##### Write a Python program to display calendar."
   ]
  },
  {
   "cell_type": "code",
   "execution_count": 14,
   "metadata": {},
   "outputs": [
    {
     "name": "stdout",
     "output_type": "stream",
     "text": [
      "    January 1999\n",
      "Mo Tu We Th Fr Sa Su\n",
      "             1  2  3\n",
      " 4  5  6  7  8  9 10\n",
      "11 12 13 14 15 16 17\n",
      "18 19 20 21 22 23 24\n",
      "25 26 27 28 29 30 31\n",
      "\n"
     ]
    }
   ],
   "source": [
    "import calendar as cld\n",
    "\n",
    "year = int(input('Enter the year (yyyy): '))\n",
    "month = int(input('Enter the month (mm): '))\n",
    "\n",
    "calculation = cld.month(year, month)\n",
    "print(calculation)\n",
    "  "
   ]
  },
  {
   "cell_type": "markdown",
   "metadata": {},
   "source": [
    "##### Write a Python program to solve quadratic equation."
   ]
  },
  {
   "cell_type": "code",
   "execution_count": null,
   "metadata": {},
   "outputs": [
    {
     "name": "stdout",
     "output_type": "stream",
     "text": [
      "The roots are complex: -2.0 + 2.0i and -2.0 - 2.0i\n"
     ]
    }
   ],
   "source": [
    "# input the quadratic equation coefficients\n",
    "a = float(input('Enter the value of a: '))\n",
    "b = float(input('Enter the value of b: '))\n",
    "c = float(input('Enter the value of c: '))\n",
    "\n",
    "# print coefficients\n",
    "print(f'The quadratic equation is: {a}x^2 + {b}x + {c} = 0')\n",
    "# calculate the discriminant\n",
    "d = b**2 - 4*a*c\n",
    "\n",
    "# condition for real and different roots\n",
    "if d > 0:\n",
    "    root1 = (-b + d**0.5) / 2*a\n",
    "    root2 = (-b - d**0.5) / 2*a\n",
    "    print(f'The roots are real and different: {root1} and {root2}')\n",
    "# condition for real and equal roots\n",
    "elif d == 0:\n",
    "    root1 = -b / (2*a)\n",
    "    print(f'The roots are real and equal: {root1}')\n",
    "# if roots are not real\n",
    "else:\n",
    "    real_part = -b / (2*a)\n",
    "    imaginary_part = (abs(d)**0.5 )/ (2*a)\n",
    "    print(f'The roots are complex: {real_part} + {imaginary_part}i and {real_part} - {imaginary_part}i')\n"
   ]
  },
  {
   "cell_type": "markdown",
   "metadata": {},
   "source": [
    "### List Comprehension"
   ]
  },
  {
   "cell_type": "code",
   "execution_count": 29,
   "metadata": {},
   "outputs": [
    {
     "name": "stdout",
     "output_type": "stream",
     "text": [
      "Even numbers: [12, 24, 98, 54, 66, 72, 88, 92]\n"
     ]
    }
   ],
   "source": [
    "# using list comprehension to extract even and odd numbers from a list\n",
    "nums = [43, 12, 24, 37, 98, 54, 66, 72, 88, 92]\n",
    "even_numbers = [num for num in nums if num % 2 == 0]\n",
    "print('Even numbers:', even_numbers)"
   ]
  },
  {
   "cell_type": "code",
   "execution_count": 23,
   "metadata": {},
   "outputs": [
    {
     "name": "stdout",
     "output_type": "stream",
     "text": [
      "[1, 2, 3, 4, 5, 6, 7, 8, 9, 10]\n"
     ]
    }
   ],
   "source": [
    "var = [num + 1 for num in range(10)]\n",
    "print(var)"
   ]
  },
  {
   "cell_type": "code",
   "execution_count": 25,
   "metadata": {},
   "outputs": [
    {
     "name": "stdout",
     "output_type": "stream",
     "text": [
      "['cat', 'rabbit', 'elephant', 'cheetah']\n"
     ]
    }
   ],
   "source": [
    "# list comprehension with multiple conditions\n",
    "animals = ['dog', 'cat', 'rabbit', 'lion', 'tiger', 'elephant', 'zebra', 'giraffe', 'leopard', 'cheetah']\n",
    "result = [\n",
    "    animal \n",
    "    for animal in animals\n",
    "    if animal[-1] == 't'\n",
    "    or animal[-1] == 'h'\n",
    "]\n",
    "print(result)"
   ]
  },
  {
   "cell_type": "code",
   "execution_count": 27,
   "metadata": {},
   "outputs": [
    {
     "name": "stdout",
     "output_type": "stream",
     "text": [
      "[1, 2, 3, 4, 5, 6, 7, 8, 9]\n"
     ]
    }
   ],
   "source": [
    "# Nested list comprehension\n",
    "matrix = [[1, 2, 3], [4, 5, 6], [7, 8, 9]]\n",
    "flattened = [\n",
    "    num \n",
    "    for row in matrix \n",
    "    for num in row\n",
    "]\n",
    "print(flattened)"
   ]
  },
  {
   "cell_type": "code",
   "execution_count": 33,
   "metadata": {},
   "outputs": [
    {
     "name": "stdout",
     "output_type": "stream",
     "text": [
      "['odd', 'odd', 'even', 'even', 'even', 'odd', 'odd', 'even', 'even', 'odd', 'even', 'odd', 'even', 'odd', 'even']\n"
     ]
    }
   ],
   "source": [
    "# if else in list comprehension\n",
    "categories = [1,5,4,6,8,11,3,12,14,15,16,17,18,19,20]\n",
    "result = [\n",
    "    'even' \n",
    "    if num % 2 == 0 \n",
    "    else 'odd' \n",
    "    for num in categories\n",
    "]\n",
    "\n",
    "print(result)"
   ]
  },
  {
   "cell_type": "markdown",
   "metadata": {},
   "source": [
    "### Dictionary Comprehension"
   ]
  },
  {
   "cell_type": "code",
   "execution_count": 34,
   "metadata": {},
   "outputs": [
    {
     "name": "stdout",
     "output_type": "stream",
     "text": [
      "{'a': 1, 'b': 2, 'c': 3, 'd': 4, 'e': 5}\n"
     ]
    }
   ],
   "source": [
    "# create dictionary\n",
    "pairs = [('a', 1), ('b', 2), ('c', 3), ('d', 4), ('e', 5)]\n",
    "my_dict = {key: value for key, value in pairs}\n",
    "print(my_dict)"
   ]
  },
  {
   "cell_type": "markdown",
   "metadata": {},
   "source": [
    "### Exception Handling"
   ]
  },
  {
   "cell_type": "code",
   "execution_count": 41,
   "metadata": {},
   "outputs": [
    {
     "name": "stdout",
     "output_type": "stream",
     "text": [
      "invalid literal for int() with base 10: 'f'\n",
      "You did not enter a valid number\n",
      "This will always execute\n"
     ]
    }
   ],
   "source": [
    "# exception handling\n",
    "try:\n",
    "    num = int(input('Enter a number: '))\n",
    "except ValueError as e:\n",
    "    print(e)\n",
    "    print('You did not enter a valid number')\n",
    "except ZeroDivisionError as e:\n",
    "    print(e)\n",
    "    print('You cannot divide by zero')\n",
    "except Exception as e:\n",
    "    print(e)\n",
    "    print('An error occurred:')\n",
    "else:\n",
    "    print('No errors occurred')\n",
    "    print('The number is:', num)\n",
    "finally:\n",
    "    print('This will always execute')"
   ]
  },
  {
   "cell_type": "markdown",
   "metadata": {},
   "source": [
    "### Object Oriented Programming"
   ]
  },
  {
   "cell_type": "code",
   "execution_count": 45,
   "metadata": {},
   "outputs": [],
   "source": [
    "class Car:\n",
    "    # class initializer method or constructor\n",
    "    def __init__(self, make, model, color, year):\n",
    "        # instance attributes or variables\n",
    "        self.make = make\n",
    "        self.model = model\n",
    "        self.color = color\n",
    "        self.year = year\n",
    "    # class method to drive the car\n",
    "    def drive(self):\n",
    "        print('The ' + self.model +  ' is moving')\n",
    "    # class method to stop the car\n",
    "    def stop(self):\n",
    "        print('The ' + self.model + ' has stopped')"
   ]
  },
  {
   "cell_type": "code",
   "execution_count": 46,
   "metadata": {},
   "outputs": [
    {
     "name": "stdout",
     "output_type": "stream",
     "text": [
      "Toyota\n",
      "Corolla\n",
      "Red\n",
      "2020\n",
      "The Corolla is moving\n",
      "The Corolla has stopped\n"
     ]
    }
   ],
   "source": [
    "car_1 = Car('Toyota', 'Corolla', 'Red', 2020)\n",
    "print(car_1.make)\n",
    "print(car_1.model)\n",
    "print(car_1.color)\n",
    "print(car_1.year)\n",
    "car_1.drive()\n",
    "car_1.stop()\n"
   ]
  }
 ],
 "metadata": {
  "kernelspec": {
   "display_name": "aionedge",
   "language": "python",
   "name": "python3"
  },
  "language_info": {
   "codemirror_mode": {
    "name": "ipython",
    "version": 3
   },
   "file_extension": ".py",
   "mimetype": "text/x-python",
   "name": "python",
   "nbconvert_exporter": "python",
   "pygments_lexer": "ipython3",
   "version": "3.12.4"
  }
 },
 "nbformat": 4,
 "nbformat_minor": 2
}
