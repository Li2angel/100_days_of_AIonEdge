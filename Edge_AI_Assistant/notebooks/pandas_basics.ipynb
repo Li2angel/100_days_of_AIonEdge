{
 "cells": [
  {
   "cell_type": "code",
   "execution_count": 2,
   "metadata": {},
   "outputs": [
    {
     "name": "stdout",
     "output_type": "stream",
     "text": [
      "             Age      Score\n",
      "count   4.000000   4.000000\n",
      "mean   30.750000  42.250000\n",
      "std    16.938615  18.786076\n",
      "min    13.000000  23.000000\n",
      "25%    21.250000  31.250000\n",
      "50%    28.500000  39.500000\n",
      "75%    38.000000  50.500000\n",
      "max    53.000000  67.000000\n"
     ]
    }
   ],
   "source": [
    "import pandas as pd\n",
    "\n",
    "# creating a simple dataframe\n",
    "data = {\n",
    "    'Name': ['John', 'Anna', 'Peter', 'Linda'],\n",
    "    'Location': ['New York', 'Paris', 'Berlin', 'London'],\n",
    "    'Age': [24, 13, 53, 33],\n",
    "    'Score': [45, 34, 23, 67]\n",
    "}\n",
    "\n",
    "df = pd.DataFrame(data)\n",
    "\n",
    "# display basic information about the dataframe\n",
    "# print(df.info())\n",
    "\n",
    "# display the first 2 rows of the dataframe\n",
    "# print(df.head(2))\n",
    "\n",
    "# display the last 2 rows of the dataframe\n",
    "# print(df.tail(2))\n",
    "\n",
    "# display the column names of the dataframe\n",
    "# print(df.columns)\n",
    "\n",
    "# display the index of the dataframe\n",
    "# print(df.index)\n",
    "\n",
    "# display the values of the dataframe\n",
    "# print(df.values)\n",
    "\n",
    "# display the shape of the dataframe\n",
    "# print(df.shape)\n",
    "\n",
    "# display the number of elements in the dataframe\n",
    "# print(df.size)\n",
    "\n",
    "# display the number of dimensions of the dataframe\n",
    "# print(df.ndim)\n",
    "\n",
    "# display the data types of the dataframe\n",
    "# print(df.dtypes)\n",
    "\n",
    "# display the summary statistics of the dataframe\n",
    "print(df.describe())\n"
   ]
  },
  {
   "cell_type": "code",
   "execution_count": 64,
   "metadata": {},
   "outputs": [
    {
     "name": "stdout",
     "output_type": "stream",
     "text": [
      "    Name  Location  Age  Score\n",
      "1   Anna     Paris   13     34\n",
      "0   John  New York   24     45\n",
      "3  Linda    London   33     67\n",
      "2  Peter    Berlin   53     23 \n",
      "\n",
      "    Name  Location  Age  Score\n",
      "2  Peter    Berlin   53     23\n",
      "3  Linda    London   33     67\n",
      "0   John  New York   24     45\n",
      "1   Anna     Paris   13     34\n"
     ]
    }
   ],
   "source": [
    "# filtering the dataframe\n",
    "# print(df[df['Age'] > 30])\n",
    "# print(df[(df['Age'] > 30) & (df['Score'] > 30)])\n",
    "# print(df[(df['Age'] > 30) | (df['Score'] > 30)])\n",
    "\n",
    "# using the query method\n",
    "# print(df.query('Age > 30'))\n",
    "# print(df.query('Age > 30 & Score > 30'))\n",
    "# print(df.query('Age > 30 | Score > 30'))\n",
    "\n",
    "# selecting columns\n",
    "# print(df['Name'])\n",
    "# print(df[['Name', 'Age']])\n",
    "\n",
    "# selecting rows\n",
    "# print(df.loc[:, 'Name']) # select all rows and the 'Name' column\n",
    "# print(df.loc[0:2, :]) # select the first 3 rows and all columns\n",
    "# print(df.loc[0:2, 'Name']) # select the first 3 rows and the 'Name' column\n",
    "# print(df.loc[0:2, ['Name', 'Age']]) # select the first 3 rows and the 'Name' and 'Age' columns\n",
    "\n",
    "# selecting rows using the iloc method\n",
    "# print(df.iloc[0:2, :]) # select the first 2 rows and all columns\n",
    "# print(df.iloc[0:2, 0]) # select the first 2 rows and the first column\n",
    "# print(df.iloc[0:2, 0:2]) # select the first 2 rows and the first 2 columns\n",
    "\n",
    "# setting the index of the dataframe\n",
    "# df.set_index('Name', inplace=True) # set the 'Name' column as the index of the dataframe and update the dataframe in place\n",
    "# print(df)\n",
    "\n",
    "# resetting the index of the dataframe\n",
    "# df.reset_index(inplace=True) # reset the index of the dataframe and update the dataframe in place\n",
    "# print(df)\n",
    "\n",
    "# dropping columns\n",
    "# df.drop('level_0', axis=1, inplace=True) # drop the 'Location' column\n",
    "\n",
    "# dropping rows with conditions\n",
    "# df.drop(df[df['Age'] > 30].index, inplace=True) # drop rows where the 'Age' column is greater than 30\n",
    "\n",
    "\n",
    "# # sorting the dataframe\n",
    "print(df.sort_values(by='Age'),'\\n') # sort the dataframe by the 'Age' column in ascending order\n",
    "print(df.sort_values(by='Age', ascending=False)) # sort the dataframe by the 'Age' column in descending order\n"
   ]
  },
  {
   "cell_type": "code",
   "execution_count": 73,
   "metadata": {},
   "outputs": [
    {
     "name": "stdout",
     "output_type": "stream",
     "text": [
      "Location\n",
      "Berlin      53.0\n",
      "London      33.0\n",
      "New York    24.0\n",
      "Paris       13.0\n",
      "Name: Age, dtype: float64 \n",
      "\n",
      "           Age  Score\n",
      "Location             \n",
      "Berlin    53.0   23.0\n",
      "London    33.0   67.0\n",
      "New York  24.0   45.0\n",
      "Paris     13.0   34.0 \n",
      "\n",
      "           Age  Score\n",
      "Location             \n",
      "Berlin    53.0   23.0\n",
      "London    33.0   67.0\n",
      "New York  24.0   45.0\n",
      "Paris     13.0   34.0 \n",
      "\n"
     ]
    }
   ],
   "source": [
    "# grouping\n",
    "\n",
    "# group the dataframe by the 'Location' column and calculate the mean of the 'Age' column\n",
    "print(df.groupby('Location')['Age'].mean(), '\\n')\n",
    "\n",
    "# group the dataframe by the 'Location' column and calculate the mean of the 'Age' and 'Score' columns\n",
    "print(df.groupby('Location')[['Age', 'Score']].mean(), '\\n')\n",
    "\n",
    "# group the dataframe by the 'Location' column and calculate the mean of the 'Age' and 'Score' columns\n",
    "# and rename the columns\n",
    "print(df.groupby('Location').agg({'Age': 'mean', 'Score': 'mean'}), '\\n')"
   ]
  },
  {
   "cell_type": "code",
   "execution_count": 5,
   "metadata": {},
   "outputs": [
    {
     "name": "stdout",
     "output_type": "stream",
     "text": [
      "    Name  Location  Age  Score  Age + Score\n",
      "0   John  New York   24     45           69\n",
      "1   Anna     Paris   13     34           47\n",
      "2  Peter    Berlin   53     23           76\n",
      "3  Linda    London   33     67          100 \n",
      "\n"
     ]
    }
   ],
   "source": [
    "# tranformation\n",
    "\n",
    "# create a new column 'Age + Score' which is the sum of the 'Age' and 'Score' columns\n",
    "df['Age + Score'] = df['Age'] + df['Score']\n",
    "print(df, '\\n')\n"
   ]
  },
  {
   "cell_type": "code",
   "execution_count": 31,
   "metadata": {},
   "outputs": [
    {
     "name": "stdout",
     "output_type": "stream",
     "text": [
      "    Name  Location  Age  Score  Age + Score\n",
      "0   John  New York   44     25         69.0\n",
      "1   Anna     Paris   33     14         47.0\n",
      "2  Peter    Berlin   73      3         76.0\n",
      "3  Linda    London   53     47        100.0\n",
      "0   John  New York   44     25         99.0\n",
      "1   Anna     Paris   33     14         99.0\n",
      "2  Peter    Berlin   73      3         99.0\n",
      "3  Linda    London   53     47         99.0 \n",
      "\n"
     ]
    },
    {
     "name": "stderr",
     "output_type": "stream",
     "text": [
      "C:\\Users\\Youngmusty\\AppData\\Local\\Temp\\ipykernel_16676\\2249647676.py:49: FutureWarning: DataFrame.applymap has been deprecated. Use DataFrame.map instead.\n",
      "  df[['Age', 'Score']] = df[['Age', 'Score']].applymap(add_10)\n"
     ]
    }
   ],
   "source": [
    "# manipulation\n",
    "\n",
    "# create a new dataframe\n",
    "data = {\n",
    "    'Name': ['John', 'Anna', 'Peter', 'Linda'],\n",
    "    'Location': ['New York', 'Paris', 'Berlin', 'London'],\n",
    "    'Age': [24, 13, 53, 33],\n",
    "    'Score': [45, 34, 23, 67]\n",
    "}\n",
    "\n",
    "df2 = pd.DataFrame(data)\n",
    "\n",
    "# concatenate the two dataframes\n",
    "# df = pd.concat([df, df2], axis=0)\n",
    "# print(df, '\\n')\n",
    "\n",
    "# drop duplicates\n",
    "# df.drop_duplicates(inplace=True)\n",
    "# print(df, '\\n')\n",
    "\n",
    "# drop rows with missing values\n",
    "# df.dropna(inplace=True)\n",
    "# print(df, '\\n')\n",
    "\n",
    "# fill missing values\n",
    "# df.fillna(0, inplace=True)\n",
    "# print(df, '\\n')\n",
    "\n",
    "# replace values\n",
    "# df.replace(0, 99, inplace=True) # replace all 0 values with 100\n",
    "# print(df, '\\n')\n",
    "\n",
    "# # apply a function to the dataframe\n",
    "# def add_10(x):\n",
    "#     return x + 10\n",
    "\n",
    "# df['Age'] = df['Age'].apply(add_10)\n",
    "# print(df, '\\n')\n",
    "\n",
    "# apply a lambda function to the dataframe\n",
    "# df['Score'] = df['Score'].apply(lambda x: x - 20)\n",
    "# print(df, '\\n')\n",
    "\n",
    "# # apply a function to the dataframe using the applymap method\n",
    "# def add_10(x):\n",
    "#     return x - 10\n",
    "\n",
    "# # use applymap to apply the add_10 function to specific columns\n",
    "# df[['Age', 'Score']] = df[['Age', 'Score']].applymap(add_10)\n",
    "# print(df, '\\n')\n",
    "\n",
    "# # apply a lambda function to the dataframe using the applymap method\n",
    "# df[['Age', 'Score']] = df[['Age', 'Score']].applymap(lambda x: x + 10)\n",
    "# print(df, '\\n')\n"
   ]
  },
  {
   "cell_type": "code",
   "execution_count": 34,
   "metadata": {},
   "outputs": [
    {
     "name": "stdout",
     "output_type": "stream",
     "text": [
      "    Name  Location  Age  Score  Age + Score\n",
      "0   John  New York   44     25         69.0\n",
      "1   Anna     Paris   33     14         47.0\n",
      "2  Peter    Berlin   73      3         76.0\n",
      "3  Linda    London   53     47        100.0\n",
      "4   John  New York   44     25         99.0\n",
      "5   Anna     Paris   33     14         99.0\n",
      "6  Peter    Berlin   73      3         99.0\n",
      "7  Linda    London   53     47         99.0 \n",
      "\n"
     ]
    }
   ],
   "source": [
    "# save and load data efficiently\n",
    "\n",
    "# save the dataframe to a csv file\n",
    "# df.to_csv('data.csv', index=False) # save the dataframe to a csv file without the index\n",
    "\n",
    "# load the dataframe from a csv file\n",
    "# df = pd.read_csv('data.csv')\n",
    "# print(df, '\\n')\n",
    "\n",
    "# save the dataframe to an excel file\n",
    "df.to_excel('data.xlsx', index=False) # save the dataframe to an excel file without the index\n",
    "\n",
    "# load the dataframe from an excel file\n",
    "df = pd.read_excel('data.xlsx')\n",
    "print(df, '\\n')\n",
    "\n",
    "# save the dataframe to a json file\n",
    "df.to_json('data.json') # save the dataframe to a json file\n",
    "\n",
    "# load the dataframe from a json file\n",
    "df = pd.read_json('data.json')\n",
    "print(df, '\\n')\n",
    "\n"
   ]
  }
 ],
 "metadata": {
  "kernelspec": {
   "display_name": "aionedge",
   "language": "python",
   "name": "python3"
  },
  "language_info": {
   "codemirror_mode": {
    "name": "ipython",
    "version": 3
   },
   "file_extension": ".py",
   "mimetype": "text/x-python",
   "name": "python",
   "nbconvert_exporter": "python",
   "pygments_lexer": "ipython3",
   "version": "3.12.4"
  }
 },
 "nbformat": 4,
 "nbformat_minor": 2
}
