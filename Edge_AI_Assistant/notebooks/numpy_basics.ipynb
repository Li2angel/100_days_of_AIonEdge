{
 "cells": [
  {
   "cell_type": "code",
   "execution_count": 1,
   "metadata": {},
   "outputs": [
    {
     "name": "stdout",
     "output_type": "stream",
     "text": [
      "[1 2 3 4 5]\n"
     ]
    }
   ],
   "source": [
    "import numpy as np\n",
    "\n",
    "# creating a 1D array\n",
    "a = np.array([1, 2, 3, 4, 5])\n",
    "print(a)"
   ]
  },
  {
   "cell_type": "code",
   "execution_count": 2,
   "metadata": {},
   "outputs": [
    {
     "name": "stdout",
     "output_type": "stream",
     "text": [
      "[[1 2 3]\n",
      " [4 5 6]]\n"
     ]
    }
   ],
   "source": [
    "# creating a 2D array\n",
    "b = np.array([[1, 2, 3], [4, 5, 6]])\n",
    "print(b)"
   ]
  },
  {
   "cell_type": "code",
   "execution_count": 11,
   "metadata": {},
   "outputs": [
    {
     "name": "stdout",
     "output_type": "stream",
     "text": [
      "[6 6 6 6 6]\n",
      "[-4 -2  0  2  4]\n",
      "[5 8 9 8 5]\n",
      "[0.2 0.5 1.  2.  5. ]\n",
      "[ 1 16 27 16  5]\n",
      "[1 2 0 0 0]\n",
      "[0 0 1 2 5]\n",
      "[4 5 6 7 8]\n"
     ]
    }
   ],
   "source": [
    "# basic operations\n",
    "a = np.array([1, 2, 3, 4, 5])\n",
    "b = np.array([5, 4, 3, 2, 1])\n",
    "\n",
    "print(a + b) # elementwise addition\n",
    "print(a - b) # elementwise subtraction\n",
    "print(a * b) # elementwise multiplication\n",
    "print(a / b) # elementwise division\n",
    "print(a ** b) # elementwise power\n",
    "print(a % b) # elementwise modulo\n",
    "print(a // b) # elementwise floor division\n",
    "print(a + 3) # add 3 to each element"
   ]
  },
  {
   "cell_type": "code",
   "execution_count": 9,
   "metadata": {},
   "outputs": [
    {
     "name": "stdout",
     "output_type": "stream",
     "text": [
      "[[19 22]\n",
      " [43 50]]\n"
     ]
    }
   ],
   "source": [
    "# matrix multiplication\n",
    "a = np.array([[1, 2], [3, 4]])\n",
    "b = np.array([[5, 6], [7, 8]])\n",
    "\n",
    "print(np.dot(a, b)) "
   ]
  },
  {
   "cell_type": "code",
   "execution_count": 31,
   "metadata": {},
   "outputs": [
    {
     "name": "stdout",
     "output_type": "stream",
     "text": [
      "[[0. 0.]\n",
      " [0. 0.]]\n",
      "[[1. 1.]]\n",
      "[[7 7]\n",
      " [7 7]]\n",
      "[[1. 0.]\n",
      " [0. 1.]]\n",
      "[[0.76408648 0.85491233]\n",
      " [0.69198771 0.85163228]]\n",
      "10\n",
      "[4 6]\n",
      "[3 7]\n",
      "[[1 3]\n",
      " [2 4]]\n",
      "[[1 2]\n",
      " [3 4]\n",
      " [5 6]]\n",
      "[[1 2 3]\n",
      " [4 5 6]]\n",
      "[1 2 3 4 5 6]\n"
     ]
    }
   ],
   "source": [
    "# using special functions\n",
    "a = np.zeros((2, 2)) # creates a 2x2 matrix with zeros\n",
    "print(a)\n",
    "\n",
    "b = np.ones((1, 2)) # creates a 1x2 matrix with ones\n",
    "print(b)\n",
    "\n",
    "c = np.full((2, 2), 7) # creates a 2x2 matrix with all elements as 7\n",
    "print(c)\n",
    "\n",
    "d = np.eye(2) # creates a 2x2 identity matrix\n",
    "print(d)\n",
    "\n",
    "e = np.random.random((2, 2)) # creates a 2x2 matrix with random numbers\n",
    "print(e)\n",
    "\n",
    "# sum of all elements\n",
    "a = np.array([[1, 2], [3, 4]])\n",
    "print(np.sum(a))\n",
    "\n",
    "# sum of each column\n",
    "print(np.sum(a, axis=0))\n",
    "\n",
    "# sum of each row\n",
    "print(np.sum(a, axis=1))\n",
    "\n",
    "# transpose\n",
    "print(a.T)\n",
    "\n",
    "# reshaping\n",
    "a = np.array([[1, 2, 3], [4, 5, 6]])\n",
    "print(a.reshape(3, 2))\n",
    "\n",
    "# stacking arrays\n",
    "a = np.array([1, 2, 3])\n",
    "b = np.array([4, 5, 6])\n",
    "print(np.vstack((a, b))) # vertical stack\n",
    "print(np.hstack((a, b))) # horizontal stack\n"
   ]
  },
  {
   "cell_type": "markdown",
   "metadata": {},
   "source": [
    "##### Array Indexing and Slicing "
   ]
  },
  {
   "cell_type": "code",
   "execution_count": 25,
   "metadata": {},
   "outputs": [
    {
     "name": "stdout",
     "output_type": "stream",
     "text": [
      "[[ 1  2  3  4]\n",
      " [ 5  6  7  8]\n",
      " [ 9 10 11 12]]\n",
      "[[2 3]\n",
      " [6 7]]\n",
      "2\n",
      "77\n",
      "[[1 2]\n",
      " [3 4]\n",
      " [5 6]]\n",
      "[[False False]\n",
      " [ True  True]\n",
      " [ True  True]]\n"
     ]
    }
   ],
   "source": [
    "# array indexing\n",
    "a = np.array([[1, 2, 3, 4], [5, 6, 7, 8], [9, 10, 11, 12]])\n",
    "print(a)\n",
    "\n",
    "b = a[:2, 1:3]\n",
    "print(b)\n",
    "\n",
    "print(a[0, 1]) \n",
    "\n",
    "# changing the value of an element in b will change the value in a\n",
    "\n",
    "b[0, 0] = 77\n",
    "print(a[0, 1]) # prints 77 as the value is changed in b\n",
    "\n",
    "# using boolean indexing\n",
    "a = np.array([[1, 2], [3, 4], [5, 6]])\n",
    "print(a)\n",
    "\n",
    "bool_idx = (a > 2)\n",
    "print(bool_idx)"
   ]
  },
  {
   "cell_type": "code",
   "execution_count": 45,
   "metadata": {},
   "outputs": [
    {
     "name": "stdout",
     "output_type": "stream",
     "text": [
      "[1 2 3 4 5 6]\n",
      "[[1 2 5]\n",
      " [3 4 6]]\n"
     ]
    }
   ],
   "source": [
    "# concatenating arrays\n",
    "a = np.array([1, 2, 3])\n",
    "b = np.array([4, 5, 6])\n",
    "print(np.concatenate((a, b), axis=0)) # concatenates along the first axis\n",
    "\n",
    "a = np.array([[1, 2], [3, 4]])\n",
    "b = np.array([[5, 6]])\n",
    "print(np.concatenate((a, b.T), axis=1)) # concatenates along the second axis"
   ]
  },
  {
   "cell_type": "code",
   "execution_count": 51,
   "metadata": {},
   "outputs": [
    {
     "name": "stdout",
     "output_type": "stream",
     "text": [
      "[-0.98803162  0.85090352 -0.30481062  0.89399666 -0.80115264]\n",
      "[ 0.15425145  0.52532199 -0.95241298 -0.44807362 -0.59846007]\n",
      "[-6.4053312   1.61977519  0.32004039 -1.99520041  1.33869021]\n",
      "[0.         0.52359878 1.57079633]\n",
      "[1.57079633 1.04719755 0.        ]\n",
      "[0.         0.46364761 0.78539816]\n",
      "[ 0.         28.64788976 57.29577951]\n",
      "[ 2.71828183  7.3890561  20.08553692]\n",
      "[0.         0.69314718 1.09861229]\n",
      "[0.         0.30103    0.47712125]\n",
      "[5 7 9]\n",
      "[-3 -3 -3]\n",
      "[ 4 10 18]\n",
      "[0.25 0.4  0.5 ]\n",
      "[  1  32 729]\n",
      "[1 2 3]\n",
      "[0 0 0]\n"
     ]
    }
   ],
   "source": [
    "# mathematical functions\n",
    "a = np.array([30, 45, 60, 90, 180])\n",
    "print(np.sin(a))\n",
    "print(np.cos(a))\n",
    "print(np.tan(a))\n",
    "\n",
    "a = np.array([0, 0.5, 1])\n",
    "print(np.arcsin(a))\n",
    "print(np.arccos(a))\n",
    "print(np.arctan(a))\n",
    "print(np.degrees(a)) \n",
    "\n",
    "a = np.array([1, 2, 3])\n",
    "print(np.exp(a))\n",
    "print(np.log(a))\n",
    "print(np.log10(a))\n",
    "\n",
    "a = np.array([1, 2, 3])\n",
    "b = np.array([4, 5, 6])\n",
    "print(np.add(a, b))\n",
    "print(np.subtract(a, b))\n",
    "print(np.multiply(a, b))\n",
    "print(np.divide(a, b))\n",
    "print(np.power(a, b))\n",
    "print(np.mod(a, b))\n",
    "print(np.floor_divide(a, b))\n"
   ]
  },
  {
   "cell_type": "code",
   "execution_count": 80,
   "metadata": {},
   "outputs": [
    {
     "name": "stdout",
     "output_type": "stream",
     "text": [
      "[[-2.   1. ]\n",
      " [ 1.5 -0.5]]\n",
      "-2.0000000000000004\n",
      "EigResult(eigenvalues=array([-0.37228132,  5.37228132]), eigenvectors=array([[-0.82456484, -0.41597356],\n",
      "       [ 0.56576746, -0.90937671]]))\n",
      "SVDResult(U=array([[-0.40455358, -0.9145143 ],\n",
      "       [-0.9145143 ,  0.40455358]]), S=array([5.4649857 , 0.36596619]), Vh=array([[-0.57604844, -0.81741556],\n",
      "       [ 0.81741556, -0.57604844]]))\n",
      "[-4.   4.5]\n",
      "[[19 22]\n",
      " [43 50]]\n"
     ]
    }
   ],
   "source": [
    "# linear algebra\n",
    "a = np.array([[1, 2], [3, 4]])\n",
    "print(np.linalg.inv(a)) # inverse of a\n",
    "print(np.linalg.det(a)) # determinant of a\n",
    "print(np.linalg.eig(a)) # eigenvalues and eigenvectors of a\n",
    "print(np.linalg.svd(a)) # singular value decomposition of a\n",
    "print(np.linalg.solve(a, np.array([5, 6]))) # solve the linear equation a*x = b\n",
    "\n",
    "# matmul\n",
    "a = np.array([[1, 2], [3, 4]])\n",
    "b = np.array([[5, 6], [7, 8]])\n",
    "print(np.matmul(a, b)) # matrix multiplication"
   ]
  },
  {
   "cell_type": "code",
   "execution_count": 53,
   "metadata": {},
   "outputs": [
    {
     "name": "stdout",
     "output_type": "stream",
     "text": [
      "[[1 2]\n",
      " [3 4]]\n"
     ]
    }
   ],
   "source": [
    "# loading and saving data\n",
    "a = np.array([[1, 2], [3, 4]])\n",
    "np.save('my_array', a) # saves the array to my_array.npy\n",
    "b = np.load('my_array.npy') # loads the array from my_array.npy\n",
    "print(b)"
   ]
  },
  {
   "cell_type": "code",
   "execution_count": 70,
   "metadata": {},
   "outputs": [
    {
     "name": "stdout",
     "output_type": "stream",
     "text": [
      "2.6666666666666665\n",
      "2.5\n",
      "1.1055415967851334\n",
      "1.2222222222222223\n",
      "1\n",
      "4\n",
      "0\n",
      "4\n",
      "2.5\n",
      "True\n",
      "True\n",
      "[1 2 3 4]\n",
      "[0 1 2 1 2]\n"
     ]
    }
   ],
   "source": [
    "# Array statistics\n",
    "a = np.array([1, 2, 2, 3, 4, 4])\n",
    "\n",
    "print(np.mean(a))\n",
    "print(np.median(a))\n",
    "print(np.std(a))\n",
    "print(np.var(a))\n",
    "print(np.min(a))\n",
    "print(np.max(a))\n",
    "print(np.argmin(a)) # index of the minimum element\n",
    "print(np.argmax(a)) # index of the maximum element\n",
    "print(np.percentile(a, 50)) # 50th percentile\n",
    "print(np.any(a)) # True if any element is True\n",
    "print(np.all(a)) # True if all elements are True\n",
    "print(np.unique(a)) # unique elements in the array\n",
    "print(np.bincount(a)) # number of occurrences of each value in the array\n"
   ]
  },
  {
   "cell_type": "code",
   "execution_count": 81,
   "metadata": {},
   "outputs": [
    {
     "name": "stdout",
     "output_type": "stream",
     "text": [
      "[0.39697289 0.68089318 0.14881709 0.22210161 0.55645084]\n",
      "[9 8 2 7 1]\n",
      "[ 1.56622477 -0.26802519 -0.74362129 -0.13358027 -0.62167946]\n",
      "[1.14328937 1.31192693 1.85829903 1.67905512 1.05490674]\n",
      "[0 1 3 2 4]\n",
      "[1 0 4 2 3]\n",
      "[4 2 1 3 0]\n",
      "['b' 'b' 'a' 'a' 'c']\n"
     ]
    }
   ],
   "source": [
    "# Random sampling\n",
    "print(np.random.random(5)) # 5 random numbers between 0 and 1\n",
    "print(np.random.randint(1, 10, 5)) # 5 random integers between 1 and 10\n",
    "print(np.random.normal(0, 1, 5)) # 5 random numbers from a normal distribution with mean 0 and standard deviation 1\n",
    "print(np.random.uniform(1, 2, 5)) # 5 random numbers between 1 and 2\n",
    "print(np.random.permutation(5)) # random permutation of 0 to 4\n",
    "print(np.random.choice(5, 5, replace=False)) # 5 random numbers from 0 to 4 without replacement\n",
    "print(np.random.choice(5, 5, replace=True)) # 5 random numbers from 0 to 4 with replacement\n",
    "print(np.random.choice(['a', 'b', 'c'], 5)) # 5 random elements from ['a', 'b', 'c']"
   ]
  },
  {
   "cell_type": "code",
   "execution_count": 87,
   "metadata": {},
   "outputs": [
    {
     "name": "stdout",
     "output_type": "stream",
     "text": [
      "[1 2 3 4 5]\n",
      "[3 1 2 4 5]\n",
      "[1 2 3 4 5]\n",
      "[[2 1]\n",
      " [3 4]]\n",
      "[[1 3]\n",
      " [2 4]]\n"
     ]
    }
   ],
   "source": [
    "# Array sorting\n",
    "a = np.array([3, 1, 2, 4, 5])\n",
    "print(np.sort(a)) # returns a new sorted array\n",
    "print(a) # original array is unchanged\n",
    "\n",
    "a.sort() # sorts the array in place\n",
    "print(a)\n",
    "\n",
    "a = np.array([[3, 1], [2, 4]])\n",
    "print(np.sort(a, axis=0)) # sorts along the first axis\n",
    "print(np.sort(a, axis=1)) # sorts along the second axis"
   ]
  },
  {
   "cell_type": "code",
   "execution_count": 91,
   "metadata": {},
   "outputs": [
    {
     "name": "stdout",
     "output_type": "stream",
     "text": [
      "[False False False False]\n",
      "[ True  True  True  True]\n",
      "[ True  True False False]\n",
      "[ True  True False False]\n",
      "[False False  True  True]\n",
      "[False False  True  True]\n",
      "False\n"
     ]
    }
   ],
   "source": [
    "# Array comparison\n",
    "a = np.array([1, 2, 3, 4])\n",
    "b = np.array([4, 3, 2, 1])\n",
    "\n",
    "print(np.equal(a, b)) # elementwise comparison\n",
    "print(np.not_equal(a, b)) # elementwise comparison\n",
    "print(np.less(a, b)) # elementwise comparison\n",
    "print(np.less_equal(a, b)) # elementwise comparison\n",
    "print(np.greater(a, b)) # elementwise comparison\n",
    "print(np.greater_equal(a, b)) # elementwise comparison\n",
    "print(np.array_equal(a, b)) # True if arrays have the same shape and elements"
   ]
  },
  {
   "cell_type": "code",
   "execution_count": 110,
   "metadata": {},
   "outputs": [
    {
     "name": "stdout",
     "output_type": "stream",
     "text": [
      "[[1 2]\n",
      " [3 4]\n",
      " [5 6]]\n",
      "[1 2 3 4 5 6]\n",
      "[[1 4]\n",
      " [2 5]\n",
      " [3 6]]\n",
      "[array([[1, 2, 3]]), array([[4, 5, 6]])]\n",
      "[[ 1  2  3]\n",
      " [ 4  5  6]\n",
      " [ 7  8  9]\n",
      " [10 11 12]]\n",
      "[[ 1  2  3  7  8  9]\n",
      " [ 4  5  6 10 11 12]]\n",
      "[ 1  2  3  4  5  6  7  8  9 10 11 12]\n",
      "[1 5 2 3 4 5 6]\n",
      "[1 3 4 5 6]\n",
      "[[6 5 4]\n",
      " [3 2 1]]\n",
      "[[6 1 2]\n",
      " [3 4 5]]\n",
      "[1 1 2 2 3 3 4 4 5 5 6 6]\n",
      "[1 2 3 4 5 6]\n"
     ]
    }
   ],
   "source": [
    "# Array manipulation\n",
    "a = np.array([[1, 2, 3], [4, 5, 6]])\n",
    "b = np.array([[7, 8, 9], [10, 11, 12]])\n",
    "print(np.reshape(a, (3, 2))) # reshapes the array to (3, 2)\n",
    "print(np.ravel(a)) # flattens the array\n",
    "print(np.transpose(a)) # transposes the array\n",
    "print(np.split(a, 2)) # splits the array into 2 arrays\n",
    "print(np.concatenate((a, b), axis=0)) # concatenates along the first axis\n",
    "print(np.concatenate((a, b), axis=1)) # concatenates along the second axis\n",
    "print(np.append(a, b)) # appends b to a\n",
    "print(np.insert(a, 1, 5)) # inserts 5 at index 1\n",
    "print(np.delete(a, 1)) # deletes element at index 1\n",
    "print(np.flip(a)) # reverses the array\n",
    "print(np.roll(a, 1)) # rolls the array by 1 element\n",
    "print(np.repeat(a, 2)) # repeats each element twice"
   ]
  }
 ],
 "metadata": {
  "kernelspec": {
   "display_name": "aionedge",
   "language": "python",
   "name": "python3"
  },
  "language_info": {
   "codemirror_mode": {
    "name": "ipython",
    "version": 3
   },
   "file_extension": ".py",
   "mimetype": "text/x-python",
   "name": "python",
   "nbconvert_exporter": "python",
   "pygments_lexer": "ipython3",
   "version": "3.12.4"
  }
 },
 "nbformat": 4,
 "nbformat_minor": 2
}
